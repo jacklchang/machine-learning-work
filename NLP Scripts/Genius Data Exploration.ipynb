{
 "cells": [
  {
   "cell_type": "code",
   "execution_count": null,
   "metadata": {
    "colab": {
     "base_uri": "https://localhost:8080/"
    },
    "executionInfo": {
     "elapsed": 75170,
     "status": "ok",
     "timestamp": 1731023980328,
     "user": {
      "displayName": "Sahana Sankar",
      "userId": "09821259821122047380"
     },
     "user_tz": 480
    },
    "id": "tcVYoeXRwvqD",
    "outputId": "256e8696-f728-49f4-ad5e-4b704df3b590"
   },
   "outputs": [],
   "source": [
    "# Pip installs\n",
    "!pip install git+https://github.com/johnwmillr/LyricsGenius.git\n",
    "!pip install -q sentencepiece\n",
    "!pip install -q transformers\n",
    "!pip install -q evaluate\n",
    "import evaluate\n",
    "!pip install -q rouge_score\n",
    "#let's make longer output readable without horizontal scrolling\n",
    "from pprint import pprint"
   ]
  },
  {
   "cell_type": "code",
   "execution_count": null,
   "metadata": {
    "id": "bVoeihZZwLCn"
   },
   "outputs": [],
   "source": [
    "# imports\n",
    "import requests\n",
    "from tabulate import tabulate\n",
    "import csv\n",
    "import lyricsgenius\n",
    "import pandas as pd\n",
    "import re"
   ]
  },
  {
   "cell_type": "code",
   "execution_count": null,
   "metadata": {
    "id": "dn7qVuSPwOam"
   },
   "outputs": [],
   "source": [
    "# Genius setup\n",
    "# Sahana's API Token\n",
    "GENIUS_API_TOKEN = 'gYStp8V74DgB-WG7kAjtlySn5lJviczVv6pG9Sp1qpjf05MUb8yJIHvfZUPG9UaP'\n",
    "genius = lyricsgenius.Genius(GENIUS_API_TOKEN)\n",
    "\n",
    "# Set up the base URL and headers for the Genius API\n",
    "base_url = \"https://api.genius.com\"\n",
    "headers = {'Authorization': f'Bearer {GENIUS_API_TOKEN}'}"
   ]
  },
  {
   "cell_type": "code",
   "execution_count": null,
   "metadata": {
    "id": "rexScAAynPjd"
   },
   "outputs": [],
   "source": [
    "import csv\n",
    "def export_song_data_to_csv(song_data_list, artist_name):\n",
    "    # Define all fieldnames, ensuring \"Lyrics\" is included\n",
    "    fieldnames = ['Song ID', 'Title', 'Lyrics URL', 'Combined Annotations', 'Wikipedia Annotation', 'Lyrics']\n",
    "    filename = f\"{artist_name}_top_50_songs.csv\"\n",
    "\n",
    "    # Write data to CSV\n",
    "    with open(filename, mode='w', newline='', encoding='utf-8') as file:\n",
    "        writer = csv.DictWriter(file, fieldnames=fieldnames)\n",
    "\n",
    "        writer.writeheader()  # Write header row\n",
    "        writer.writerows(song_data_list)  # Write each row from the song data list"
   ]
  },
  {
   "cell_type": "code",
   "execution_count": null,
   "metadata": {
    "id": "Bh2l_KQuyC36"
   },
   "outputs": [],
   "source": [
    "# Step 1: Function to search for an artist and retrieve the artist ID\n",
    "def get_artist_id(artist_name):\n",
    "    search_url = f\"{base_url}/search\"\n",
    "    params = {'q': artist_name}\n",
    "\n",
    "    # Make a request to search for the artist\n",
    "    response = requests.get(search_url, headers=headers, params=params)\n",
    "\n",
    "    if response.status_code == 200:\n",
    "        results = response.json()\n",
    "        hits = results['response']['hits']\n",
    "\n",
    "        # Look for the first matching artist in the search results\n",
    "        for hit in hits:\n",
    "            if hit['result']['primary_artist']['name'].lower() == artist_name.lower():\n",
    "                return hit['result']['primary_artist']['id']\n",
    "\n",
    "    return None"
   ]
  },
  {
   "cell_type": "code",
   "execution_count": null,
   "metadata": {
    "id": "QjUQsm5EyEc0"
   },
   "outputs": [],
   "source": [
    "# Step 2: Function to get all songs by artist ID, but only those with annotations\n",
    "def get_songs_with_annotations_by_artist_id(artist_id, per_page=50, max_songs=200):\n",
    "    songs_with_annotations = []\n",
    "    page = 1\n",
    "\n",
    "    # Keep fetching songs until we hit the limit or run out of pages\n",
    "    while len(songs_with_annotations) < max_songs:\n",
    "        songs_url = f\"{base_url}/artists/{artist_id}/songs\"\n",
    "        params = {\n",
    "            'page': page,\n",
    "            'per_page': per_page\n",
    "        }\n",
    "\n",
    "        response = requests.get(songs_url, headers=headers, params=params)\n",
    "\n",
    "        if response.status_code == 200:\n",
    "            song_data = response.json()\n",
    "            new_songs = song_data['response']['songs']\n",
    "            if not new_songs:\n",
    "                break  # Stop if no more songs are returned\n",
    "\n",
    "            # Filter only songs with annotations\n",
    "            for song in new_songs:\n",
    "                if song['annotation_count'] > 0:\n",
    "                    songs_with_annotations.append(song)\n",
    "\n",
    "            page += 1\n",
    "        else:\n",
    "            break\n",
    "\n",
    "    return songs_with_annotations"
   ]
  },
  {
   "cell_type": "code",
   "execution_count": null,
   "metadata": {
    "id": "ZhUu9FumyGfG"
   },
   "outputs": [],
   "source": [
    "# Step 3: Function to get annotations for a song using the song ID and fetch song URL\n",
    "def get_song_annotations_and_url(song_id):\n",
    "    song_url = f\"{base_url}/songs/{song_id}\"\n",
    "\n",
    "    # Make a request to get the song data\n",
    "    response = requests.get(song_url, headers=headers)\n",
    "\n",
    "    if response.status_code == 200:\n",
    "        song_data = response.json()['response']['song']\n",
    "        annotations = []\n",
    "        lyrics_url = song_data.get('url', 'N/A')  # Fetch the lyrics URL\n",
    "\n",
    "        # Fetch annotations from the song description if available\n",
    "        if 'description' in song_data and song_data['description']['dom']:\n",
    "            dom_annotations = song_data['description']['dom']['children']\n",
    "            for annotation in dom_annotations:\n",
    "                if isinstance(annotation, str):  # Plain text annotations\n",
    "                    annotations.append(annotation)\n",
    "                elif 'children' in annotation:  # Complex annotations\n",
    "                    for child in annotation['children']:\n",
    "                        if isinstance(child, str):\n",
    "                            annotations.append(child)\n",
    "\n",
    "        # Combine all annotations into one string\n",
    "        combined_annotations = \" \".join(annotations)\n",
    "\n",
    "        return lyrics_url, combined_annotations\n",
    "    else:\n",
    "        print(\"Failed to fetch song data.\")\n",
    "        return None, None"
   ]
  },
  {
   "cell_type": "code",
   "execution_count": null,
   "metadata": {
    "id": "LScCGR0AvaTA"
   },
   "outputs": [],
   "source": [
    "# Define the get_lyrics function to fetch lyrics from Lyrics.ovh API\n",
    "def get_lyrics(artist_name, song_title):\n",
    "    url = f\"https://api.lyrics.ovh/v1/{artist_name}/{song_title}\"\n",
    "    try:\n",
    "        response = requests.get(url, timeout=10)\n",
    "        if response.status_code == 200:\n",
    "            data = response.json()\n",
    "            lyrics = data.get(\"lyrics\")\n",
    "            if lyrics and lyrics.strip():\n",
    "                return lyrics\n",
    "        return None\n",
    "    except:\n",
    "        return None"
   ]
  },
  {
   "cell_type": "code",
   "execution_count": null,
   "metadata": {
    "id": "uuGW_2hprqir"
   },
   "outputs": [],
   "source": [
    "import requests\n",
    "\n",
    "# Function to fetch Wikipedia annotation for a given song title\n",
    "def get_wikipedia_annotation(song_title):\n",
    "    search_url = \"https://en.wikipedia.org/w/api.php\"\n",
    "    search_params = {\n",
    "        \"action\": \"opensearch\",\n",
    "        \"format\": \"json\",\n",
    "        \"search\": song_title\n",
    "    }\n",
    "\n",
    "    response = requests.get(search_url, params=search_params)\n",
    "    search_data = response.json()\n",
    "\n",
    "    # Check if we have results\n",
    "    if len(search_data[1]) > 0:\n",
    "        # Fetch the first search result\n",
    "        page_title = search_data[1][0]\n",
    "        page_url = \"https://en.wikipedia.org/w/api.php\"\n",
    "        page_params = {\n",
    "            \"action\": \"query\",\n",
    "            \"format\": \"json\",\n",
    "            \"prop\": \"extracts\",\n",
    "            \"titles\": page_title,\n",
    "            \"explaintext\": True  # Fetch plain text for easy processing\n",
    "        }\n",
    "        page_response = requests.get(page_url, params=page_params)\n",
    "        page_data = page_response.json()\n",
    "        pages = page_data.get(\"query\", {}).get(\"pages\", {})\n",
    "\n",
    "        # Extract the page content\n",
    "        for page_id, page_content in pages.items():\n",
    "            return page_content.get(\"extract\", \"No Wikipedia annotation found\")\n",
    "\n",
    "    return \"No Wikipedia annotation found\"\n"
   ]
  },
  {
   "cell_type": "code",
   "execution_count": null,
   "metadata": {
    "id": "rEhqMLd6LZQt"
   },
   "outputs": [],
   "source": [
    "from tabulate import tabulate\n",
    "import re\n",
    "import time\n",
    "import pandas as pd\n",
    "\n",
    "def get_top_50_songs_with_annotations_by_artist(artist_name):\n",
    "    # Get artist ID using the existing function\n",
    "    artist_id = get_artist_id(artist_name)\n",
    "\n",
    "    if artist_id:\n",
    "        # Get songs with annotations using existing function\n",
    "        songs = get_songs_with_annotations_by_artist_id(artist_id)\n",
    "\n",
    "        if songs:\n",
    "            # Fetch annotations, URLs, and Wikipedia annotations\n",
    "            song_data_list = []\n",
    "            for song in songs:\n",
    "                song_id = song['id']\n",
    "                lyrics = get_lyrics(artist_name, song['title'])\n",
    "\n",
    "                # Only process songs that have lyrics\n",
    "                if lyrics:\n",
    "                    lyrics_url, combined_annotations = get_song_annotations_and_url(song_id)\n",
    "                    wikipedia_annotation = get_wikipedia_annotation(song['title'])\n",
    "\n",
    "                    song_data_list.append({\n",
    "                        'Song ID': song_id,\n",
    "                        'Title': song['title'],\n",
    "                        'Lyrics URL': lyrics_url,\n",
    "                        'Combined Annotations': combined_annotations,\n",
    "                        'Wikipedia Annotation': wikipedia_annotation,\n",
    "                        'Lyrics': lyrics\n",
    "                    })\n",
    "\n",
    "            # Sort after collecting all songs with lyrics\n",
    "            sorted_songs = sorted(song_data_list, key=lambda x: (-len(x['Combined Annotations']), x['Title']))\n",
    "            top_50_songs = sorted_songs[:50]\n",
    "\n",
    "            # Filter Wikipedia annotations silently\n",
    "            for song_data in top_50_songs:\n",
    "                if artist_name.lower() not in song_data['Wikipedia Annotation'].lower():\n",
    "                    song_data['Wikipedia Annotation'] = \"No Wikipedia annotation found (artist name not mentioned)\"\n",
    "\n",
    "            return top_50_songs\n",
    "\n",
    "    return None"
   ]
  },
  {
   "cell_type": "code",
   "execution_count": null,
   "metadata": {
    "colab": {
     "base_uri": "https://localhost:8080/"
    },
    "executionInfo": {
     "elapsed": 20115,
     "status": "ok",
     "timestamp": 1731024001946,
     "user": {
      "displayName": "Sahana Sankar",
      "userId": "09821259821122047380"
     },
     "user_tz": 480
    },
    "id": "bn2-y-Q5kWap",
    "outputId": "c1b65cce-b971-46d6-813f-7fb0af80519c"
   },
   "outputs": [],
   "source": [
    "from google.colab import drive\n",
    "drive.mount('/content/drive')"
   ]
  },
  {
   "cell_type": "code",
   "execution_count": null,
   "metadata": {
    "colab": {
     "base_uri": "https://localhost:8080/"
    },
    "executionInfo": {
     "elapsed": 1863634,
     "status": "ok",
     "timestamp": 1731037756362,
     "user": {
      "displayName": "Sahana Sankar",
      "userId": "09821259821122047380"
     },
     "user_tz": 480
    },
    "id": "OsFrJdyweGxj",
    "outputId": "8279ee33-9c75-4075-f794-ed97f7ff3a7d"
   },
   "outputs": [],
   "source": [
    "# List of all artists\n",
    "from google.colab import drive\n",
    "drive.mount('/content/drive')\n",
    "\n",
    "# The folder ID \"10Fevi_myWRyxiT6waMFhoPANW9r1jrCg\"\n",
    "folder_id = \"10Fevi_myWRyxiT6waMFhoPANW9r1jrCg\"\n",
    "save_folder = f\"/content/drive/MyDrive/genius_lyrics_outputs\"\n",
    "\n",
    "# Create the folder if it doesn't exist\n",
    "import os\n",
    "if not os.path.exists(save_folder):\n",
    "    os.makedirs(save_folder)\n",
    "#done with \"Morgan Wallen\", \"SZA\", \"Taylor Swift\", \"Drake\", \"Luke Combs\", Miley\n",
    "artist_names = [\"Justin Timberlake\", \"AC/DC\", \"Metallica\",\n",
    "    \"The Beach Boys\", \"Seventeen\", \"The Red Clay Strays\", \"Creedence Clearwater Revival\",\n",
    "    \"Crosby, Stills, Nash & Young\", \"Linkin Park\", \"Green Day\", \"Maroon 5\", \"Black Eyed Peas\", \"ABBA\",\n",
    "]\n",
    "\n",
    "# Process each artist\n",
    "total_artists = len(artist_names)\n",
    "for index, artist_name in enumerate(artist_names, 1):\n",
    "    print(f\"Processing {artist_name} ({index}/{total_artists})...\", end=\" \", flush=True)\n",
    "\n",
    "    try:\n",
    "        songs_data = get_top_50_songs_with_annotations_by_artist(artist_name)\n",
    "\n",
    "        if songs_data:\n",
    "            safe_filename = re.sub(r'[^\\w\\s-]', '', artist_name).replace(' ', '_')\n",
    "            csv_filename = os.path.join(save_folder, f\"{safe_filename}_top_50_songs.csv\")\n",
    "\n",
    "            df = pd.DataFrame(songs_data)\n",
    "            df.to_csv(csv_filename, index=False, encoding='utf-8')\n",
    "            print(f\"Done! ({len(songs_data)} songs)\")\n",
    "        else:\n",
    "            print(\"No data found\")\n",
    "\n",
    "    except Exception as e:\n",
    "        print(f\"Error: {str(e)}\")\n",
    "        error_log_path = os.path.join(save_folder, 'error_log.txt')\n",
    "        with open(error_log_path, 'a') as f:\n",
    "            f.write(f\"{artist_name}: {str(e)}\\n\")\n",
    "        continue\n",
    "\n",
    "    time.sleep(2)\n",
    "\n",
    "print(\"\\nAll processing complete!\")"
   ]
  },
  {
   "cell_type": "code",
   "execution_count": null,
   "metadata": {
    "colab": {
     "base_uri": "https://localhost:8080/"
    },
    "executionInfo": {
     "elapsed": 1225,
     "status": "ok",
     "timestamp": 1730171252579,
     "user": {
      "displayName": "Sahana Sankar",
      "userId": "09821259821122047380"
     },
     "user_tz": 420
    },
    "id": "TZTQNLxhph47",
    "outputId": "0e289506-c3b1-4096-fbe1-db99389d81df"
   },
   "outputs": [],
   "source": [
    "from google.colab import drive\n",
    "drive.mount('/content/drive')"
   ]
  },
  {
   "cell_type": "code",
   "execution_count": null,
   "metadata": {
    "colab": {
     "base_uri": "https://localhost:8080/",
     "height": 310
    },
    "executionInfo": {
     "elapsed": 803,
     "status": "ok",
     "timestamp": 1730173372712,
     "user": {
      "displayName": "Jack Lucas Chang",
      "userId": "07892634935426540391"
     },
     "user_tz": 420
    },
    "id": "K54gR8H1f4cX",
    "outputId": "a444700a-b890-4f47-f6c6-c761225d5e6d"
   },
   "outputs": [],
   "source": [
    "taylor = pd.read_csv('/content/drive/MyDrive/Colab Notebooks/Taylor Swift_top_50_songs_with_annotations.csv')\n",
    "taylor.head()"
   ]
  },
  {
   "cell_type": "code",
   "execution_count": null,
   "metadata": {
    "colab": {
     "base_uri": "https://localhost:8080/"
    },
    "executionInfo": {
     "elapsed": 231,
     "status": "ok",
     "timestamp": 1730173366141,
     "user": {
      "displayName": "Jack Lucas Chang",
      "userId": "07892634935426540391"
     },
     "user_tz": 420
    },
    "id": "WiOBwGpgW_wC",
    "outputId": "7e9dc3bb-5687-4217-bddf-eb423c9d77e2"
   },
   "outputs": [],
   "source": [
    "!ls /content/drive/MyDrive"
   ]
  },
  {
   "cell_type": "code",
   "execution_count": null,
   "metadata": {
    "colab": {
     "base_uri": "https://localhost:8080/",
     "height": 1000
    },
    "executionInfo": {
     "elapsed": 210,
     "status": "ok",
     "timestamp": 1730173421898,
     "user": {
      "displayName": "Jack Lucas Chang",
      "userId": "07892634935426540391"
     },
     "user_tz": 420
    },
    "id": "N_IfqBWOrDwD",
    "outputId": "36201a6d-aa1a-4cb8-85f8-5d813d740f36"
   },
   "outputs": [],
   "source": [
    "# Function to clean up the text\n",
    "print(taylor['Combined Annotations'])\n",
    "\n",
    "def clean_text(text):\n",
    "    # Replace multiple spaces with a single space\n",
    "    text = re.sub(r'\\s+', ' ', text)\n",
    "\n",
    "    # Remove incomplete sentences (e.g., \"   \")\n",
    "    text = re.sub(r'(\\s*—\\s*)', '', text)  # Handle em-dash\n",
    "    text = re.sub(r'\\s+[,\\.]', '', text)  # Remove space before punctuation\n",
    "    text = re.sub(r'[“”]', '\"', text)  # Replace smart quotes\n",
    "    text = re.sub(r'[^\\w\\s.,!?]', '', text)  # Remove non-alphabetic characters\n",
    "    text = re.sub(r'\\s{2,}', ' ', text)  # Remove extra spaces again\n",
    "\n",
    "    # Optionally, further processing can be added for placeholder gaps (e.g., '   ')\n",
    "    # For now, we can replace any leftover placeholders with a generic \"[missing]\" or remove them.\n",
    "    text = re.sub(r'\\s{2,}', '[missing]', text)\n",
    "\n",
    "    # Strip leading/trailing whitespace\n",
    "    text = text.strip()\n",
    "\n",
    "    return text\n",
    "\n",
    "taylor['Combined Annotations'] = taylor['Combined Annotations'].apply(clean_text)\n",
    "\n",
    "taylor.head()"
   ]
  },
  {
   "cell_type": "code",
   "execution_count": null,
   "metadata": {
    "colab": {
     "base_uri": "https://localhost:8080/",
     "height": 397,
     "referenced_widgets": [
      "c16b0c2f5c5545958a3e9b55d9a14124",
      "1a8ec493894c40bfabb5ffe1a7a725bb",
      "59f0243d5c244374b3807cf43c1a948d",
      "2700687504344e668e0c41dc21000cd0",
      "685e93744c5246a3ba761ce767a17a7a",
      "6b85986a3f624c58ac30d15ce7a0bd98",
      "f2098cd1155e4a6caf6ae9ef0830afbc",
      "17c1736ec91f460ba804f72d53bf9c0d",
      "ef95236831f948ab9cc89f98fbfc84a8",
      "8b40a2c300ba448eb98612e9f3bf5361",
      "8f3f1c018b6941a4b19565ea85701a2b",
      "7e0ca2c3144d49128b4091dabe6121f2",
      "d387939065a64f32875d3b706009ef73",
      "7ff4be308b3946fa91fdb51b5c4517fc",
      "382162e96c5e4dd0b234e1529829cbd3",
      "be90c7c63f68430b845520351d236d41",
      "b0861d5cddaa4e62bf8cf75ee4182871",
      "db815efca3134052ba3517f7cf2b052d",
      "1f3681f21e384fd68bf8d4894fafbdac",
      "b33ae91a17bf466c8dee9b3ca8572f2b",
      "0852fce352fd40d3a30c3a881d642306",
      "6698c039bb464b53a1c805ddb0264405",
      "7e26bde9acf74475ade19120cee5c536",
      "6597aac8b8634239b88dd2a091074e2e",
      "4e22a8a1832d41d9942bc5cb7812e7a3",
      "ca4fcc6eee4845fc9c3ff0b8d50ed533",
      "a725d76a529d45c49101926347f69920",
      "494f034e521644b2b7ae13fa26e0c277",
      "8049bf84570e446aba55b6a0d98d39ff",
      "eb834db28d2142ebbd26b593917fc6d6",
      "9e8b1312c4a347b88bf79e38d02cd96c",
      "7f8d4e3c98fd460c978b7cda66327def",
      "9fa54b413247475b95ff6c96f4548a77",
      "c8e17d058f6b433d90e6f08fbbaf9ff2",
      "c9b0dc0f665c41e7a7e31a3b63df6fe6",
      "73738901ab5c43a4ba46cbd15801bc89",
      "1111294100cb4183b8b21c943cc4269d",
      "cee43f46878d49b8b80a9e4e2858c02e",
      "272f1f9b7a6b4e79a8ac4da49dd75dc6",
      "947890e4f9be448684342592487e10cd",
      "eed0588787804a4b9ff15673b0a74cd1",
      "e2efa726cd4f42808712401285f19464",
      "d12ad97a161b4b80bc01db13e0d7f0ca",
      "9229705ec4b040dcb5d22e2ffeea448d"
     ]
    },
    "executionInfo": {
     "elapsed": 24528,
     "status": "ok",
     "timestamp": 1730173462198,
     "user": {
      "displayName": "Jack Lucas Chang",
      "userId": "07892634935426540391"
     },
     "user_tz": 420
    },
    "id": "ZeB0aAkZp4No",
    "outputId": "690c3e81-5d43-45fa-cabd-0850233ccf81"
   },
   "outputs": [],
   "source": [
    "from transformers import T5Tokenizer, TFT5ForConditionalGeneration\n",
    "\n",
    "t5model = TFT5ForConditionalGeneration.from_pretrained(\"t5-base\")\n",
    "t5tokenizer = T5Tokenizer.from_pretrained(\"t5-base\")"
   ]
  },
  {
   "cell_type": "code",
   "execution_count": null,
   "metadata": {
    "id": "-cSO1fxrp-11"
   },
   "outputs": [],
   "source": [
    "t5model.summary()"
   ]
  },
  {
   "cell_type": "code",
   "execution_count": null,
   "metadata": {
    "id": "lD_ks3Z7qIgj"
   },
   "outputs": [],
   "source": [
    "# Using one as an example, otherwise we would loop\n",
    "ARTICLE_TO_SUMMARIZE = taylor.iloc[2]['Combined Annotations']"
   ]
  },
  {
   "cell_type": "code",
   "execution_count": null,
   "metadata": {
    "colab": {
     "base_uri": "https://localhost:8080/"
    },
    "executionInfo": {
     "elapsed": 206,
     "status": "ok",
     "timestamp": 1730173483414,
     "user": {
      "displayName": "Jack Lucas Chang",
      "userId": "07892634935426540391"
     },
     "user_tz": 420
    },
    "id": "lLMvE5onqfvO",
    "outputId": "99045571-4daf-4d7a-d128-a0565ef6a369"
   },
   "outputs": [],
   "source": [
    "# Let's determine the min/max length\n",
    "#######\n",
    "# For this very specific example\n",
    "print(len(taylor.iloc[2]['Combined Annotations']))\n",
    "print(taylor.iloc[2]['Combined Annotations'])\n",
    "#######\n",
    "# Otherwise in general\n",
    "# Calculate the length of each value in the 'Combined Annotations' column\n",
    "taylor['annotation_length'] = taylor['Combined Annotations'].apply(len)\n",
    "\n",
    "# Calculate the average length\n",
    "average_length = taylor['annotation_length'].mean()\n",
    "\n",
    "# Display the result\n",
    "print(f\"Average length of 'Combined Annotations': {average_length}\")"
   ]
  },
  {
   "cell_type": "code",
   "execution_count": null,
   "metadata": {
    "colab": {
     "base_uri": "https://localhost:8080/"
    },
    "executionInfo": {
     "elapsed": 57768,
     "status": "ok",
     "timestamp": 1730173574448,
     "user": {
      "displayName": "Jack Lucas Chang",
      "userId": "07892634935426540391"
     },
     "user_tz": 420
    },
    "id": "nmwjTVKSqBLy",
    "outputId": "d2fc8333-73a8-403b-903e-2d4e9702fa6e"
   },
   "outputs": [],
   "source": [
    "PROMPT = 'summarize: '\n",
    "T5ARTICLE_TO_SUMMARIZE = PROMPT + ARTICLE_TO_SUMMARIZE\n",
    "inputs = t5tokenizer(T5ARTICLE_TO_SUMMARIZE, max_length=1024, truncation=True, return_tensors=\"tf\")\n",
    "summary_ids = t5model.generate(inputs[\"input_ids\"],\n",
    "                               max_new_tokens=2000,\n",
    "                               min_new_tokens=513,\n",
    "                               no_repeat_ngram_size=3,\n",
    "                               num_beams=5,\n",
    "                               early_stopping=True\n",
    ")\n",
    "annotation_summary = t5tokenizer.batch_decode(summary_ids, skip_special_tokens=True, clean_up_tokenization_spaces=False)\n",
    "pprint(annotation_summary[0], compact=True)"
   ]
  },
  {
   "cell_type": "code",
   "execution_count": null,
   "metadata": {
    "colab": {
     "base_uri": "https://localhost:8080/"
    },
    "executionInfo": {
     "elapsed": 222,
     "status": "ok",
     "timestamp": 1730173596538,
     "user": {
      "displayName": "Jack Lucas Chang",
      "userId": "07892634935426540391"
     },
     "user_tz": 420
    },
    "id": "PVNMGZw7qP1i",
    "outputId": "032cea0c-7543-414e-997c-7f1fc47749a2"
   },
   "outputs": [],
   "source": [
    "# Compare to annotation\n",
    "pprint(taylor.iloc[2]['Combined Annotations'], compact=True)"
   ]
  },
  {
   "cell_type": "code",
   "execution_count": null,
   "metadata": {
    "colab": {
     "base_uri": "https://localhost:8080/"
    },
    "executionInfo": {
     "elapsed": 64110,
     "status": "ok",
     "timestamp": 1730173680233,
     "user": {
      "displayName": "Jack Lucas Chang",
      "userId": "07892634935426540391"
     },
     "user_tz": 420
    },
    "id": "JfSn1V-ZzHzS",
    "outputId": "77682535-c2bf-4e70-b92a-306f4267f66d"
   },
   "outputs": [],
   "source": [
    "# Let's use the lyrics\n",
    "input_text = \"summarize: \" + taylor.iloc[2]['Lyrics']\n",
    "\n",
    "# Tokenize the input text\n",
    "input_ids = t5tokenizer.encode(input_text, return_tensors='tf', max_length=512, truncation=True)\n",
    "\n",
    "# Generate the summary\n",
    "summary_ids = t5model.generate(input_ids, max_length=500, num_beams=2, length_penalty=2.0, early_stopping=True)\n",
    "\n",
    "lyrics_summary = t5tokenizer.batch_decode(summary_ids, skip_special_tokens=True, clean_up_tokenization_spaces=False)\n",
    "\n",
    "pprint(lyrics_summary[0], compact=True)"
   ]
  },
  {
   "cell_type": "code",
   "execution_count": null,
   "metadata": {
    "colab": {
     "base_uri": "https://localhost:8080/"
    },
    "executionInfo": {
     "elapsed": 26972,
     "status": "ok",
     "timestamp": 1730173920202,
     "user": {
      "displayName": "Jack Lucas Chang",
      "userId": "07892634935426540391"
     },
     "user_tz": 420
    },
    "id": "9M-nLyI_0TT9",
    "outputId": "4881e6f4-5ac6-439d-efd3-2e8c9d389685"
   },
   "outputs": [],
   "source": [
    "# Combine both the lyrics summary and annotation summary and see what happens\n",
    "combined_summary = annotation_summary[0] + \" \" + lyrics_summary[0]\n",
    "pprint(combined_summary, compact=True)\n",
    "\n",
    "input_text = \"summarize: \" + combined_summary\n",
    "\n",
    "# Tokenize the input text\n",
    "input_ids = t5tokenizer.encode(input_text, return_tensors='tf', max_length=512, truncation=True)\n",
    "\n",
    "# Generate the summary\n",
    "summary_ids = t5model.generate(input_ids, max_length=50, num_beams=2, length_penalty=2.0, early_stopping=True)\n",
    "\n",
    "lyrics_and_annotation_summary = t5tokenizer.batch_decode(summary_ids, skip_special_tokens=True, clean_up_tokenization_spaces=False)\n",
    "\n",
    "pprint(lyrics_and_annotation_summary[0], compact=True)"
   ]
  },
  {
   "cell_type": "code",
   "execution_count": null,
   "metadata": {
    "id": "BR2-0S_t0542"
   },
   "outputs": [],
   "source": [
    "# What if we combined the raw lyrics and annotations?\n",
    "input_lyrics_and_annotations = taylor.iloc[2]['Lyrics'] + ' ' + taylor.iloc[2]['Combined Annotations']\n",
    "input_text = \"summarize: \" + input_lyrics_and_annotations\n",
    "\n",
    "# Tokenize the input text\n",
    "input_ids = t5tokenizer.encode(input_text, return_tensors='tf', max_length=512, truncation=True)\n",
    "\n",
    "# Generate the summary\n",
    "summary_ids = t5model.generate(input_ids, max_length=50, num_beams=2, length_penalty=2.0, early_stopping=True)\n",
    "\n",
    "lyrics_and_annotation_summary = t5tokenizer.batch_decode(summary_ids, skip_special_tokens=True, clean_up_tokenization_spaces=False)\n",
    "\n",
    "pprint(lyrics_and_annotation_summary[0], compact=True)"
   ]
  },
  {
   "cell_type": "code",
   "execution_count": null,
   "metadata": {
    "id": "3S_GGFKOsjnS"
   },
   "outputs": [],
   "source": [
    "#In order to not consume all of the memory available in Colab we'll free up the memory we're using for these large language models\n",
    "del t5model\n",
    "del t5tokenizer"
   ]
  },
  {
   "cell_type": "markdown",
   "metadata": {
    "id": "i51KTzfaslv5"
   },
   "source": [
    "Trying the shorter Pegasus model here"
   ]
  },
  {
   "cell_type": "code",
   "execution_count": null,
   "metadata": {
    "id": "9IFfmS7jskUI"
   },
   "outputs": [],
   "source": [
    "from transformers import PegasusTokenizer, TFPegasusForConditionalGeneration\n",
    "\n",
    "pmodel = TFPegasusForConditionalGeneration.from_pretrained(\"google/pegasus-xsum\")\n",
    "ptokenizer = PegasusTokenizer.from_pretrained(\"google/pegasus-xsum\")"
   ]
  },
  {
   "cell_type": "code",
   "execution_count": null,
   "metadata": {
    "id": "pb8ClXG2s0mL"
   },
   "outputs": [],
   "source": [
    "inputs = ptokenizer(ARTICLE_TO_SUMMARIZE, max_length=2000, truncation=True, return_tensors=\"tf\")\n",
    "# Generate Summary\n",
    "summary_ids = pmodel.generate(inputs[\"input_ids\"]\n",
    ")\n",
    "pprint(ptokenizer.batch_decode(summary_ids, skip_special_tokens=True, clean_up_tokenization_spaces=False)[0], compact=True)"
   ]
  },
  {
   "cell_type": "code",
   "execution_count": null,
   "metadata": {
    "id": "5c3ydhEmtHlm"
   },
   "outputs": [],
   "source": [
    "del pmodel\n",
    "del ptokenizer"
   ]
  },
  {
   "cell_type": "markdown",
   "metadata": {
    "id": "PAMn8G25tKZv"
   },
   "source": [
    "Trying the longer pegasus model here"
   ]
  },
  {
   "cell_type": "code",
   "execution_count": null,
   "metadata": {
    "id": "jSULwsZptL6d"
   },
   "outputs": [],
   "source": [
    "from transformers import PegasusTokenizer, TFPegasusForConditionalGeneration\n",
    "\n",
    "cnnmodel = TFPegasusForConditionalGeneration.from_pretrained(\"google/pegasus-cnn_dailymail\", from_pt=True)\n",
    "cnntokenizer = PegasusTokenizer.from_pretrained(\"google/pegasus-cnn_dailymail\", from_pt=True)\n",
    "\n",
    "cnninputs = cnntokenizer(ARTICLE_TO_SUMMARIZE, max_length=1024, truncation=True, return_tensors=\"tf\")"
   ]
  },
  {
   "cell_type": "code",
   "execution_count": null,
   "metadata": {
    "id": "3DlMDKUytO_S"
   },
   "outputs": [],
   "source": [
    "# Generate Summary\n",
    "summary_ids = cnnmodel.generate(inputs[\"input_ids\"]\n",
    ")\n",
    "\n",
    "pprint(cnntokenizer.batch_decode(summary_ids, skip_special_tokens=True, clean_up_tokenization_spaces=False)[0], compact=True)"
   ]
  },
  {
   "cell_type": "code",
   "execution_count": null,
   "metadata": {
    "id": "XhBKTWJ085uD"
   },
   "outputs": [],
   "source": [
    "# Character count\n",
    "# Good Grammar\n",
    "# References song lyrics\n",
    "# Complete sentences\n",
    "\n"
   ]
  }
 ],
 "metadata": {
  "colab": {
   "provenance": [
    {
     "file_id": "1Apc3y6sVs51YjXHDb5VUStYi77EksuCS",
     "timestamp": 1729620852730
    },
    {
     "file_id": "1O3Tztx77o-iI_vjNN6YiPoZX-UnjLWIZ",
     "timestamp": 1729620803073
    }
   ]
  },
  "kernelspec": {
   "display_name": "Python 3",
   "name": "python3"
  },
  "language_info": {
   "name": "python"
  },
  "widgets": {
   "application/vnd.jupyter.widget-state+json": {
    "0852fce352fd40d3a30c3a881d642306": {
     "model_module": "@jupyter-widgets/base",
     "model_module_version": "1.2.0",
     "model_name": "LayoutModel",
     "state": {
      "_model_module": "@jupyter-widgets/base",
      "_model_module_version": "1.2.0",
      "_model_name": "LayoutModel",
      "_view_count": null,
      "_view_module": "@jupyter-widgets/base",
      "_view_module_version": "1.2.0",
      "_view_name": "LayoutView",
      "align_content": null,
      "align_items": null,
      "align_self": null,
      "border": null,
      "bottom": null,
      "display": null,
      "flex": null,
      "flex_flow": null,
      "grid_area": null,
      "grid_auto_columns": null,
      "grid_auto_flow": null,
      "grid_auto_rows": null,
      "grid_column": null,
      "grid_gap": null,
      "grid_row": null,
      "grid_template_areas": null,
      "grid_template_columns": null,
      "grid_template_rows": null,
      "height": null,
      "justify_content": null,
      "justify_items": null,
      "left": null,
      "margin": null,
      "max_height": null,
      "max_width": null,
      "min_height": null,
      "min_width": null,
      "object_fit": null,
      "object_position": null,
      "order": null,
      "overflow": null,
      "overflow_x": null,
      "overflow_y": null,
      "padding": null,
      "right": null,
      "top": null,
      "visibility": null,
      "width": null
     }
    },
    "1111294100cb4183b8b21c943cc4269d": {
     "model_module": "@jupyter-widgets/controls",
     "model_module_version": "1.5.0",
     "model_name": "HTMLModel",
     "state": {
      "_dom_classes": [],
      "_model_module": "@jupyter-widgets/controls",
      "_model_module_version": "1.5.0",
      "_model_name": "HTMLModel",
      "_view_count": null,
      "_view_module": "@jupyter-widgets/controls",
      "_view_module_version": "1.5.0",
      "_view_name": "HTMLView",
      "description": "",
      "description_tooltip": null,
      "layout": "IPY_MODEL_d12ad97a161b4b80bc01db13e0d7f0ca",
      "placeholder": "​",
      "style": "IPY_MODEL_9229705ec4b040dcb5d22e2ffeea448d",
      "value": " 1.39M/1.39M [00:00&lt;00:00, 18.9MB/s]"
     }
    },
    "17c1736ec91f460ba804f72d53bf9c0d": {
     "model_module": "@jupyter-widgets/base",
     "model_module_version": "1.2.0",
     "model_name": "LayoutModel",
     "state": {
      "_model_module": "@jupyter-widgets/base",
      "_model_module_version": "1.2.0",
      "_model_name": "LayoutModel",
      "_view_count": null,
      "_view_module": "@jupyter-widgets/base",
      "_view_module_version": "1.2.0",
      "_view_name": "LayoutView",
      "align_content": null,
      "align_items": null,
      "align_self": null,
      "border": null,
      "bottom": null,
      "display": null,
      "flex": null,
      "flex_flow": null,
      "grid_area": null,
      "grid_auto_columns": null,
      "grid_auto_flow": null,
      "grid_auto_rows": null,
      "grid_column": null,
      "grid_gap": null,
      "grid_row": null,
      "grid_template_areas": null,
      "grid_template_columns": null,
      "grid_template_rows": null,
      "height": null,
      "justify_content": null,
      "justify_items": null,
      "left": null,
      "margin": null,
      "max_height": null,
      "max_width": null,
      "min_height": null,
      "min_width": null,
      "object_fit": null,
      "object_position": null,
      "order": null,
      "overflow": null,
      "overflow_x": null,
      "overflow_y": null,
      "padding": null,
      "right": null,
      "top": null,
      "visibility": null,
      "width": null
     }
    },
    "1a8ec493894c40bfabb5ffe1a7a725bb": {
     "model_module": "@jupyter-widgets/controls",
     "model_module_version": "1.5.0",
     "model_name": "HTMLModel",
     "state": {
      "_dom_classes": [],
      "_model_module": "@jupyter-widgets/controls",
      "_model_module_version": "1.5.0",
      "_model_name": "HTMLModel",
      "_view_count": null,
      "_view_module": "@jupyter-widgets/controls",
      "_view_module_version": "1.5.0",
      "_view_name": "HTMLView",
      "description": "",
      "description_tooltip": null,
      "layout": "IPY_MODEL_6b85986a3f624c58ac30d15ce7a0bd98",
      "placeholder": "​",
      "style": "IPY_MODEL_f2098cd1155e4a6caf6ae9ef0830afbc",
      "value": "config.json: 100%"
     }
    },
    "1f3681f21e384fd68bf8d4894fafbdac": {
     "model_module": "@jupyter-widgets/base",
     "model_module_version": "1.2.0",
     "model_name": "LayoutModel",
     "state": {
      "_model_module": "@jupyter-widgets/base",
      "_model_module_version": "1.2.0",
      "_model_name": "LayoutModel",
      "_view_count": null,
      "_view_module": "@jupyter-widgets/base",
      "_view_module_version": "1.2.0",
      "_view_name": "LayoutView",
      "align_content": null,
      "align_items": null,
      "align_self": null,
      "border": null,
      "bottom": null,
      "display": null,
      "flex": null,
      "flex_flow": null,
      "grid_area": null,
      "grid_auto_columns": null,
      "grid_auto_flow": null,
      "grid_auto_rows": null,
      "grid_column": null,
      "grid_gap": null,
      "grid_row": null,
      "grid_template_areas": null,
      "grid_template_columns": null,
      "grid_template_rows": null,
      "height": null,
      "justify_content": null,
      "justify_items": null,
      "left": null,
      "margin": null,
      "max_height": null,
      "max_width": null,
      "min_height": null,
      "min_width": null,
      "object_fit": null,
      "object_position": null,
      "order": null,
      "overflow": null,
      "overflow_x": null,
      "overflow_y": null,
      "padding": null,
      "right": null,
      "top": null,
      "visibility": null,
      "width": null
     }
    },
    "2700687504344e668e0c41dc21000cd0": {
     "model_module": "@jupyter-widgets/controls",
     "model_module_version": "1.5.0",
     "model_name": "HTMLModel",
     "state": {
      "_dom_classes": [],
      "_model_module": "@jupyter-widgets/controls",
      "_model_module_version": "1.5.0",
      "_model_name": "HTMLModel",
      "_view_count": null,
      "_view_module": "@jupyter-widgets/controls",
      "_view_module_version": "1.5.0",
      "_view_name": "HTMLView",
      "description": "",
      "description_tooltip": null,
      "layout": "IPY_MODEL_8b40a2c300ba448eb98612e9f3bf5361",
      "placeholder": "​",
      "style": "IPY_MODEL_8f3f1c018b6941a4b19565ea85701a2b",
      "value": " 1.21k/1.21k [00:00&lt;00:00, 15.7kB/s]"
     }
    },
    "272f1f9b7a6b4e79a8ac4da49dd75dc6": {
     "model_module": "@jupyter-widgets/base",
     "model_module_version": "1.2.0",
     "model_name": "LayoutModel",
     "state": {
      "_model_module": "@jupyter-widgets/base",
      "_model_module_version": "1.2.0",
      "_model_name": "LayoutModel",
      "_view_count": null,
      "_view_module": "@jupyter-widgets/base",
      "_view_module_version": "1.2.0",
      "_view_name": "LayoutView",
      "align_content": null,
      "align_items": null,
      "align_self": null,
      "border": null,
      "bottom": null,
      "display": null,
      "flex": null,
      "flex_flow": null,
      "grid_area": null,
      "grid_auto_columns": null,
      "grid_auto_flow": null,
      "grid_auto_rows": null,
      "grid_column": null,
      "grid_gap": null,
      "grid_row": null,
      "grid_template_areas": null,
      "grid_template_columns": null,
      "grid_template_rows": null,
      "height": null,
      "justify_content": null,
      "justify_items": null,
      "left": null,
      "margin": null,
      "max_height": null,
      "max_width": null,
      "min_height": null,
      "min_width": null,
      "object_fit": null,
      "object_position": null,
      "order": null,
      "overflow": null,
      "overflow_x": null,
      "overflow_y": null,
      "padding": null,
      "right": null,
      "top": null,
      "visibility": null,
      "width": null
     }
    },
    "382162e96c5e4dd0b234e1529829cbd3": {
     "model_module": "@jupyter-widgets/controls",
     "model_module_version": "1.5.0",
     "model_name": "HTMLModel",
     "state": {
      "_dom_classes": [],
      "_model_module": "@jupyter-widgets/controls",
      "_model_module_version": "1.5.0",
      "_model_name": "HTMLModel",
      "_view_count": null,
      "_view_module": "@jupyter-widgets/controls",
      "_view_module_version": "1.5.0",
      "_view_name": "HTMLView",
      "description": "",
      "description_tooltip": null,
      "layout": "IPY_MODEL_0852fce352fd40d3a30c3a881d642306",
      "placeholder": "​",
      "style": "IPY_MODEL_6698c039bb464b53a1c805ddb0264405",
      "value": " 892M/892M [00:04&lt;00:00, 163MB/s]"
     }
    },
    "494f034e521644b2b7ae13fa26e0c277": {
     "model_module": "@jupyter-widgets/base",
     "model_module_version": "1.2.0",
     "model_name": "LayoutModel",
     "state": {
      "_model_module": "@jupyter-widgets/base",
      "_model_module_version": "1.2.0",
      "_model_name": "LayoutModel",
      "_view_count": null,
      "_view_module": "@jupyter-widgets/base",
      "_view_module_version": "1.2.0",
      "_view_name": "LayoutView",
      "align_content": null,
      "align_items": null,
      "align_self": null,
      "border": null,
      "bottom": null,
      "display": null,
      "flex": null,
      "flex_flow": null,
      "grid_area": null,
      "grid_auto_columns": null,
      "grid_auto_flow": null,
      "grid_auto_rows": null,
      "grid_column": null,
      "grid_gap": null,
      "grid_row": null,
      "grid_template_areas": null,
      "grid_template_columns": null,
      "grid_template_rows": null,
      "height": null,
      "justify_content": null,
      "justify_items": null,
      "left": null,
      "margin": null,
      "max_height": null,
      "max_width": null,
      "min_height": null,
      "min_width": null,
      "object_fit": null,
      "object_position": null,
      "order": null,
      "overflow": null,
      "overflow_x": null,
      "overflow_y": null,
      "padding": null,
      "right": null,
      "top": null,
      "visibility": null,
      "width": null
     }
    },
    "4e22a8a1832d41d9942bc5cb7812e7a3": {
     "model_module": "@jupyter-widgets/controls",
     "model_module_version": "1.5.0",
     "model_name": "FloatProgressModel",
     "state": {
      "_dom_classes": [],
      "_model_module": "@jupyter-widgets/controls",
      "_model_module_version": "1.5.0",
      "_model_name": "FloatProgressModel",
      "_view_count": null,
      "_view_module": "@jupyter-widgets/controls",
      "_view_module_version": "1.5.0",
      "_view_name": "ProgressView",
      "bar_style": "success",
      "description": "",
      "description_tooltip": null,
      "layout": "IPY_MODEL_eb834db28d2142ebbd26b593917fc6d6",
      "max": 791656,
      "min": 0,
      "orientation": "horizontal",
      "style": "IPY_MODEL_9e8b1312c4a347b88bf79e38d02cd96c",
      "value": 791656
     }
    },
    "59f0243d5c244374b3807cf43c1a948d": {
     "model_module": "@jupyter-widgets/controls",
     "model_module_version": "1.5.0",
     "model_name": "FloatProgressModel",
     "state": {
      "_dom_classes": [],
      "_model_module": "@jupyter-widgets/controls",
      "_model_module_version": "1.5.0",
      "_model_name": "FloatProgressModel",
      "_view_count": null,
      "_view_module": "@jupyter-widgets/controls",
      "_view_module_version": "1.5.0",
      "_view_name": "ProgressView",
      "bar_style": "success",
      "description": "",
      "description_tooltip": null,
      "layout": "IPY_MODEL_17c1736ec91f460ba804f72d53bf9c0d",
      "max": 1208,
      "min": 0,
      "orientation": "horizontal",
      "style": "IPY_MODEL_ef95236831f948ab9cc89f98fbfc84a8",
      "value": 1208
     }
    },
    "6597aac8b8634239b88dd2a091074e2e": {
     "model_module": "@jupyter-widgets/controls",
     "model_module_version": "1.5.0",
     "model_name": "HTMLModel",
     "state": {
      "_dom_classes": [],
      "_model_module": "@jupyter-widgets/controls",
      "_model_module_version": "1.5.0",
      "_model_name": "HTMLModel",
      "_view_count": null,
      "_view_module": "@jupyter-widgets/controls",
      "_view_module_version": "1.5.0",
      "_view_name": "HTMLView",
      "description": "",
      "description_tooltip": null,
      "layout": "IPY_MODEL_494f034e521644b2b7ae13fa26e0c277",
      "placeholder": "​",
      "style": "IPY_MODEL_8049bf84570e446aba55b6a0d98d39ff",
      "value": "spiece.model: 100%"
     }
    },
    "6698c039bb464b53a1c805ddb0264405": {
     "model_module": "@jupyter-widgets/controls",
     "model_module_version": "1.5.0",
     "model_name": "DescriptionStyleModel",
     "state": {
      "_model_module": "@jupyter-widgets/controls",
      "_model_module_version": "1.5.0",
      "_model_name": "DescriptionStyleModel",
      "_view_count": null,
      "_view_module": "@jupyter-widgets/base",
      "_view_module_version": "1.2.0",
      "_view_name": "StyleView",
      "description_width": ""
     }
    },
    "685e93744c5246a3ba761ce767a17a7a": {
     "model_module": "@jupyter-widgets/base",
     "model_module_version": "1.2.0",
     "model_name": "LayoutModel",
     "state": {
      "_model_module": "@jupyter-widgets/base",
      "_model_module_version": "1.2.0",
      "_model_name": "LayoutModel",
      "_view_count": null,
      "_view_module": "@jupyter-widgets/base",
      "_view_module_version": "1.2.0",
      "_view_name": "LayoutView",
      "align_content": null,
      "align_items": null,
      "align_self": null,
      "border": null,
      "bottom": null,
      "display": null,
      "flex": null,
      "flex_flow": null,
      "grid_area": null,
      "grid_auto_columns": null,
      "grid_auto_flow": null,
      "grid_auto_rows": null,
      "grid_column": null,
      "grid_gap": null,
      "grid_row": null,
      "grid_template_areas": null,
      "grid_template_columns": null,
      "grid_template_rows": null,
      "height": null,
      "justify_content": null,
      "justify_items": null,
      "left": null,
      "margin": null,
      "max_height": null,
      "max_width": null,
      "min_height": null,
      "min_width": null,
      "object_fit": null,
      "object_position": null,
      "order": null,
      "overflow": null,
      "overflow_x": null,
      "overflow_y": null,
      "padding": null,
      "right": null,
      "top": null,
      "visibility": null,
      "width": null
     }
    },
    "6b85986a3f624c58ac30d15ce7a0bd98": {
     "model_module": "@jupyter-widgets/base",
     "model_module_version": "1.2.0",
     "model_name": "LayoutModel",
     "state": {
      "_model_module": "@jupyter-widgets/base",
      "_model_module_version": "1.2.0",
      "_model_name": "LayoutModel",
      "_view_count": null,
      "_view_module": "@jupyter-widgets/base",
      "_view_module_version": "1.2.0",
      "_view_name": "LayoutView",
      "align_content": null,
      "align_items": null,
      "align_self": null,
      "border": null,
      "bottom": null,
      "display": null,
      "flex": null,
      "flex_flow": null,
      "grid_area": null,
      "grid_auto_columns": null,
      "grid_auto_flow": null,
      "grid_auto_rows": null,
      "grid_column": null,
      "grid_gap": null,
      "grid_row": null,
      "grid_template_areas": null,
      "grid_template_columns": null,
      "grid_template_rows": null,
      "height": null,
      "justify_content": null,
      "justify_items": null,
      "left": null,
      "margin": null,
      "max_height": null,
      "max_width": null,
      "min_height": null,
      "min_width": null,
      "object_fit": null,
      "object_position": null,
      "order": null,
      "overflow": null,
      "overflow_x": null,
      "overflow_y": null,
      "padding": null,
      "right": null,
      "top": null,
      "visibility": null,
      "width": null
     }
    },
    "73738901ab5c43a4ba46cbd15801bc89": {
     "model_module": "@jupyter-widgets/controls",
     "model_module_version": "1.5.0",
     "model_name": "FloatProgressModel",
     "state": {
      "_dom_classes": [],
      "_model_module": "@jupyter-widgets/controls",
      "_model_module_version": "1.5.0",
      "_model_name": "FloatProgressModel",
      "_view_count": null,
      "_view_module": "@jupyter-widgets/controls",
      "_view_module_version": "1.5.0",
      "_view_name": "ProgressView",
      "bar_style": "success",
      "description": "",
      "description_tooltip": null,
      "layout": "IPY_MODEL_eed0588787804a4b9ff15673b0a74cd1",
      "max": 1389353,
      "min": 0,
      "orientation": "horizontal",
      "style": "IPY_MODEL_e2efa726cd4f42808712401285f19464",
      "value": 1389353
     }
    },
    "7e0ca2c3144d49128b4091dabe6121f2": {
     "model_module": "@jupyter-widgets/controls",
     "model_module_version": "1.5.0",
     "model_name": "HBoxModel",
     "state": {
      "_dom_classes": [],
      "_model_module": "@jupyter-widgets/controls",
      "_model_module_version": "1.5.0",
      "_model_name": "HBoxModel",
      "_view_count": null,
      "_view_module": "@jupyter-widgets/controls",
      "_view_module_version": "1.5.0",
      "_view_name": "HBoxView",
      "box_style": "",
      "children": [
       "IPY_MODEL_d387939065a64f32875d3b706009ef73",
       "IPY_MODEL_7ff4be308b3946fa91fdb51b5c4517fc",
       "IPY_MODEL_382162e96c5e4dd0b234e1529829cbd3"
      ],
      "layout": "IPY_MODEL_be90c7c63f68430b845520351d236d41"
     }
    },
    "7e26bde9acf74475ade19120cee5c536": {
     "model_module": "@jupyter-widgets/controls",
     "model_module_version": "1.5.0",
     "model_name": "HBoxModel",
     "state": {
      "_dom_classes": [],
      "_model_module": "@jupyter-widgets/controls",
      "_model_module_version": "1.5.0",
      "_model_name": "HBoxModel",
      "_view_count": null,
      "_view_module": "@jupyter-widgets/controls",
      "_view_module_version": "1.5.0",
      "_view_name": "HBoxView",
      "box_style": "",
      "children": [
       "IPY_MODEL_6597aac8b8634239b88dd2a091074e2e",
       "IPY_MODEL_4e22a8a1832d41d9942bc5cb7812e7a3",
       "IPY_MODEL_ca4fcc6eee4845fc9c3ff0b8d50ed533"
      ],
      "layout": "IPY_MODEL_a725d76a529d45c49101926347f69920"
     }
    },
    "7f8d4e3c98fd460c978b7cda66327def": {
     "model_module": "@jupyter-widgets/base",
     "model_module_version": "1.2.0",
     "model_name": "LayoutModel",
     "state": {
      "_model_module": "@jupyter-widgets/base",
      "_model_module_version": "1.2.0",
      "_model_name": "LayoutModel",
      "_view_count": null,
      "_view_module": "@jupyter-widgets/base",
      "_view_module_version": "1.2.0",
      "_view_name": "LayoutView",
      "align_content": null,
      "align_items": null,
      "align_self": null,
      "border": null,
      "bottom": null,
      "display": null,
      "flex": null,
      "flex_flow": null,
      "grid_area": null,
      "grid_auto_columns": null,
      "grid_auto_flow": null,
      "grid_auto_rows": null,
      "grid_column": null,
      "grid_gap": null,
      "grid_row": null,
      "grid_template_areas": null,
      "grid_template_columns": null,
      "grid_template_rows": null,
      "height": null,
      "justify_content": null,
      "justify_items": null,
      "left": null,
      "margin": null,
      "max_height": null,
      "max_width": null,
      "min_height": null,
      "min_width": null,
      "object_fit": null,
      "object_position": null,
      "order": null,
      "overflow": null,
      "overflow_x": null,
      "overflow_y": null,
      "padding": null,
      "right": null,
      "top": null,
      "visibility": null,
      "width": null
     }
    },
    "7ff4be308b3946fa91fdb51b5c4517fc": {
     "model_module": "@jupyter-widgets/controls",
     "model_module_version": "1.5.0",
     "model_name": "FloatProgressModel",
     "state": {
      "_dom_classes": [],
      "_model_module": "@jupyter-widgets/controls",
      "_model_module_version": "1.5.0",
      "_model_name": "FloatProgressModel",
      "_view_count": null,
      "_view_module": "@jupyter-widgets/controls",
      "_view_module_version": "1.5.0",
      "_view_name": "ProgressView",
      "bar_style": "success",
      "description": "",
      "description_tooltip": null,
      "layout": "IPY_MODEL_1f3681f21e384fd68bf8d4894fafbdac",
      "max": 891646390,
      "min": 0,
      "orientation": "horizontal",
      "style": "IPY_MODEL_b33ae91a17bf466c8dee9b3ca8572f2b",
      "value": 891646390
     }
    },
    "8049bf84570e446aba55b6a0d98d39ff": {
     "model_module": "@jupyter-widgets/controls",
     "model_module_version": "1.5.0",
     "model_name": "DescriptionStyleModel",
     "state": {
      "_model_module": "@jupyter-widgets/controls",
      "_model_module_version": "1.5.0",
      "_model_name": "DescriptionStyleModel",
      "_view_count": null,
      "_view_module": "@jupyter-widgets/base",
      "_view_module_version": "1.2.0",
      "_view_name": "StyleView",
      "description_width": ""
     }
    },
    "8b40a2c300ba448eb98612e9f3bf5361": {
     "model_module": "@jupyter-widgets/base",
     "model_module_version": "1.2.0",
     "model_name": "LayoutModel",
     "state": {
      "_model_module": "@jupyter-widgets/base",
      "_model_module_version": "1.2.0",
      "_model_name": "LayoutModel",
      "_view_count": null,
      "_view_module": "@jupyter-widgets/base",
      "_view_module_version": "1.2.0",
      "_view_name": "LayoutView",
      "align_content": null,
      "align_items": null,
      "align_self": null,
      "border": null,
      "bottom": null,
      "display": null,
      "flex": null,
      "flex_flow": null,
      "grid_area": null,
      "grid_auto_columns": null,
      "grid_auto_flow": null,
      "grid_auto_rows": null,
      "grid_column": null,
      "grid_gap": null,
      "grid_row": null,
      "grid_template_areas": null,
      "grid_template_columns": null,
      "grid_template_rows": null,
      "height": null,
      "justify_content": null,
      "justify_items": null,
      "left": null,
      "margin": null,
      "max_height": null,
      "max_width": null,
      "min_height": null,
      "min_width": null,
      "object_fit": null,
      "object_position": null,
      "order": null,
      "overflow": null,
      "overflow_x": null,
      "overflow_y": null,
      "padding": null,
      "right": null,
      "top": null,
      "visibility": null,
      "width": null
     }
    },
    "8f3f1c018b6941a4b19565ea85701a2b": {
     "model_module": "@jupyter-widgets/controls",
     "model_module_version": "1.5.0",
     "model_name": "DescriptionStyleModel",
     "state": {
      "_model_module": "@jupyter-widgets/controls",
      "_model_module_version": "1.5.0",
      "_model_name": "DescriptionStyleModel",
      "_view_count": null,
      "_view_module": "@jupyter-widgets/base",
      "_view_module_version": "1.2.0",
      "_view_name": "StyleView",
      "description_width": ""
     }
    },
    "9229705ec4b040dcb5d22e2ffeea448d": {
     "model_module": "@jupyter-widgets/controls",
     "model_module_version": "1.5.0",
     "model_name": "DescriptionStyleModel",
     "state": {
      "_model_module": "@jupyter-widgets/controls",
      "_model_module_version": "1.5.0",
      "_model_name": "DescriptionStyleModel",
      "_view_count": null,
      "_view_module": "@jupyter-widgets/base",
      "_view_module_version": "1.2.0",
      "_view_name": "StyleView",
      "description_width": ""
     }
    },
    "947890e4f9be448684342592487e10cd": {
     "model_module": "@jupyter-widgets/controls",
     "model_module_version": "1.5.0",
     "model_name": "DescriptionStyleModel",
     "state": {
      "_model_module": "@jupyter-widgets/controls",
      "_model_module_version": "1.5.0",
      "_model_name": "DescriptionStyleModel",
      "_view_count": null,
      "_view_module": "@jupyter-widgets/base",
      "_view_module_version": "1.2.0",
      "_view_name": "StyleView",
      "description_width": ""
     }
    },
    "9e8b1312c4a347b88bf79e38d02cd96c": {
     "model_module": "@jupyter-widgets/controls",
     "model_module_version": "1.5.0",
     "model_name": "ProgressStyleModel",
     "state": {
      "_model_module": "@jupyter-widgets/controls",
      "_model_module_version": "1.5.0",
      "_model_name": "ProgressStyleModel",
      "_view_count": null,
      "_view_module": "@jupyter-widgets/base",
      "_view_module_version": "1.2.0",
      "_view_name": "StyleView",
      "bar_color": null,
      "description_width": ""
     }
    },
    "9fa54b413247475b95ff6c96f4548a77": {
     "model_module": "@jupyter-widgets/controls",
     "model_module_version": "1.5.0",
     "model_name": "DescriptionStyleModel",
     "state": {
      "_model_module": "@jupyter-widgets/controls",
      "_model_module_version": "1.5.0",
      "_model_name": "DescriptionStyleModel",
      "_view_count": null,
      "_view_module": "@jupyter-widgets/base",
      "_view_module_version": "1.2.0",
      "_view_name": "StyleView",
      "description_width": ""
     }
    },
    "a725d76a529d45c49101926347f69920": {
     "model_module": "@jupyter-widgets/base",
     "model_module_version": "1.2.0",
     "model_name": "LayoutModel",
     "state": {
      "_model_module": "@jupyter-widgets/base",
      "_model_module_version": "1.2.0",
      "_model_name": "LayoutModel",
      "_view_count": null,
      "_view_module": "@jupyter-widgets/base",
      "_view_module_version": "1.2.0",
      "_view_name": "LayoutView",
      "align_content": null,
      "align_items": null,
      "align_self": null,
      "border": null,
      "bottom": null,
      "display": null,
      "flex": null,
      "flex_flow": null,
      "grid_area": null,
      "grid_auto_columns": null,
      "grid_auto_flow": null,
      "grid_auto_rows": null,
      "grid_column": null,
      "grid_gap": null,
      "grid_row": null,
      "grid_template_areas": null,
      "grid_template_columns": null,
      "grid_template_rows": null,
      "height": null,
      "justify_content": null,
      "justify_items": null,
      "left": null,
      "margin": null,
      "max_height": null,
      "max_width": null,
      "min_height": null,
      "min_width": null,
      "object_fit": null,
      "object_position": null,
      "order": null,
      "overflow": null,
      "overflow_x": null,
      "overflow_y": null,
      "padding": null,
      "right": null,
      "top": null,
      "visibility": null,
      "width": null
     }
    },
    "b0861d5cddaa4e62bf8cf75ee4182871": {
     "model_module": "@jupyter-widgets/base",
     "model_module_version": "1.2.0",
     "model_name": "LayoutModel",
     "state": {
      "_model_module": "@jupyter-widgets/base",
      "_model_module_version": "1.2.0",
      "_model_name": "LayoutModel",
      "_view_count": null,
      "_view_module": "@jupyter-widgets/base",
      "_view_module_version": "1.2.0",
      "_view_name": "LayoutView",
      "align_content": null,
      "align_items": null,
      "align_self": null,
      "border": null,
      "bottom": null,
      "display": null,
      "flex": null,
      "flex_flow": null,
      "grid_area": null,
      "grid_auto_columns": null,
      "grid_auto_flow": null,
      "grid_auto_rows": null,
      "grid_column": null,
      "grid_gap": null,
      "grid_row": null,
      "grid_template_areas": null,
      "grid_template_columns": null,
      "grid_template_rows": null,
      "height": null,
      "justify_content": null,
      "justify_items": null,
      "left": null,
      "margin": null,
      "max_height": null,
      "max_width": null,
      "min_height": null,
      "min_width": null,
      "object_fit": null,
      "object_position": null,
      "order": null,
      "overflow": null,
      "overflow_x": null,
      "overflow_y": null,
      "padding": null,
      "right": null,
      "top": null,
      "visibility": null,
      "width": null
     }
    },
    "b33ae91a17bf466c8dee9b3ca8572f2b": {
     "model_module": "@jupyter-widgets/controls",
     "model_module_version": "1.5.0",
     "model_name": "ProgressStyleModel",
     "state": {
      "_model_module": "@jupyter-widgets/controls",
      "_model_module_version": "1.5.0",
      "_model_name": "ProgressStyleModel",
      "_view_count": null,
      "_view_module": "@jupyter-widgets/base",
      "_view_module_version": "1.2.0",
      "_view_name": "StyleView",
      "bar_color": null,
      "description_width": ""
     }
    },
    "be90c7c63f68430b845520351d236d41": {
     "model_module": "@jupyter-widgets/base",
     "model_module_version": "1.2.0",
     "model_name": "LayoutModel",
     "state": {
      "_model_module": "@jupyter-widgets/base",
      "_model_module_version": "1.2.0",
      "_model_name": "LayoutModel",
      "_view_count": null,
      "_view_module": "@jupyter-widgets/base",
      "_view_module_version": "1.2.0",
      "_view_name": "LayoutView",
      "align_content": null,
      "align_items": null,
      "align_self": null,
      "border": null,
      "bottom": null,
      "display": null,
      "flex": null,
      "flex_flow": null,
      "grid_area": null,
      "grid_auto_columns": null,
      "grid_auto_flow": null,
      "grid_auto_rows": null,
      "grid_column": null,
      "grid_gap": null,
      "grid_row": null,
      "grid_template_areas": null,
      "grid_template_columns": null,
      "grid_template_rows": null,
      "height": null,
      "justify_content": null,
      "justify_items": null,
      "left": null,
      "margin": null,
      "max_height": null,
      "max_width": null,
      "min_height": null,
      "min_width": null,
      "object_fit": null,
      "object_position": null,
      "order": null,
      "overflow": null,
      "overflow_x": null,
      "overflow_y": null,
      "padding": null,
      "right": null,
      "top": null,
      "visibility": null,
      "width": null
     }
    },
    "c16b0c2f5c5545958a3e9b55d9a14124": {
     "model_module": "@jupyter-widgets/controls",
     "model_module_version": "1.5.0",
     "model_name": "HBoxModel",
     "state": {
      "_dom_classes": [],
      "_model_module": "@jupyter-widgets/controls",
      "_model_module_version": "1.5.0",
      "_model_name": "HBoxModel",
      "_view_count": null,
      "_view_module": "@jupyter-widgets/controls",
      "_view_module_version": "1.5.0",
      "_view_name": "HBoxView",
      "box_style": "",
      "children": [
       "IPY_MODEL_1a8ec493894c40bfabb5ffe1a7a725bb",
       "IPY_MODEL_59f0243d5c244374b3807cf43c1a948d",
       "IPY_MODEL_2700687504344e668e0c41dc21000cd0"
      ],
      "layout": "IPY_MODEL_685e93744c5246a3ba761ce767a17a7a"
     }
    },
    "c8e17d058f6b433d90e6f08fbbaf9ff2": {
     "model_module": "@jupyter-widgets/controls",
     "model_module_version": "1.5.0",
     "model_name": "HBoxModel",
     "state": {
      "_dom_classes": [],
      "_model_module": "@jupyter-widgets/controls",
      "_model_module_version": "1.5.0",
      "_model_name": "HBoxModel",
      "_view_count": null,
      "_view_module": "@jupyter-widgets/controls",
      "_view_module_version": "1.5.0",
      "_view_name": "HBoxView",
      "box_style": "",
      "children": [
       "IPY_MODEL_c9b0dc0f665c41e7a7e31a3b63df6fe6",
       "IPY_MODEL_73738901ab5c43a4ba46cbd15801bc89",
       "IPY_MODEL_1111294100cb4183b8b21c943cc4269d"
      ],
      "layout": "IPY_MODEL_cee43f46878d49b8b80a9e4e2858c02e"
     }
    },
    "c9b0dc0f665c41e7a7e31a3b63df6fe6": {
     "model_module": "@jupyter-widgets/controls",
     "model_module_version": "1.5.0",
     "model_name": "HTMLModel",
     "state": {
      "_dom_classes": [],
      "_model_module": "@jupyter-widgets/controls",
      "_model_module_version": "1.5.0",
      "_model_name": "HTMLModel",
      "_view_count": null,
      "_view_module": "@jupyter-widgets/controls",
      "_view_module_version": "1.5.0",
      "_view_name": "HTMLView",
      "description": "",
      "description_tooltip": null,
      "layout": "IPY_MODEL_272f1f9b7a6b4e79a8ac4da49dd75dc6",
      "placeholder": "​",
      "style": "IPY_MODEL_947890e4f9be448684342592487e10cd",
      "value": "tokenizer.json: 100%"
     }
    },
    "ca4fcc6eee4845fc9c3ff0b8d50ed533": {
     "model_module": "@jupyter-widgets/controls",
     "model_module_version": "1.5.0",
     "model_name": "HTMLModel",
     "state": {
      "_dom_classes": [],
      "_model_module": "@jupyter-widgets/controls",
      "_model_module_version": "1.5.0",
      "_model_name": "HTMLModel",
      "_view_count": null,
      "_view_module": "@jupyter-widgets/controls",
      "_view_module_version": "1.5.0",
      "_view_name": "HTMLView",
      "description": "",
      "description_tooltip": null,
      "layout": "IPY_MODEL_7f8d4e3c98fd460c978b7cda66327def",
      "placeholder": "​",
      "style": "IPY_MODEL_9fa54b413247475b95ff6c96f4548a77",
      "value": " 792k/792k [00:00&lt;00:00, 5.09MB/s]"
     }
    },
    "cee43f46878d49b8b80a9e4e2858c02e": {
     "model_module": "@jupyter-widgets/base",
     "model_module_version": "1.2.0",
     "model_name": "LayoutModel",
     "state": {
      "_model_module": "@jupyter-widgets/base",
      "_model_module_version": "1.2.0",
      "_model_name": "LayoutModel",
      "_view_count": null,
      "_view_module": "@jupyter-widgets/base",
      "_view_module_version": "1.2.0",
      "_view_name": "LayoutView",
      "align_content": null,
      "align_items": null,
      "align_self": null,
      "border": null,
      "bottom": null,
      "display": null,
      "flex": null,
      "flex_flow": null,
      "grid_area": null,
      "grid_auto_columns": null,
      "grid_auto_flow": null,
      "grid_auto_rows": null,
      "grid_column": null,
      "grid_gap": null,
      "grid_row": null,
      "grid_template_areas": null,
      "grid_template_columns": null,
      "grid_template_rows": null,
      "height": null,
      "justify_content": null,
      "justify_items": null,
      "left": null,
      "margin": null,
      "max_height": null,
      "max_width": null,
      "min_height": null,
      "min_width": null,
      "object_fit": null,
      "object_position": null,
      "order": null,
      "overflow": null,
      "overflow_x": null,
      "overflow_y": null,
      "padding": null,
      "right": null,
      "top": null,
      "visibility": null,
      "width": null
     }
    },
    "d12ad97a161b4b80bc01db13e0d7f0ca": {
     "model_module": "@jupyter-widgets/base",
     "model_module_version": "1.2.0",
     "model_name": "LayoutModel",
     "state": {
      "_model_module": "@jupyter-widgets/base",
      "_model_module_version": "1.2.0",
      "_model_name": "LayoutModel",
      "_view_count": null,
      "_view_module": "@jupyter-widgets/base",
      "_view_module_version": "1.2.0",
      "_view_name": "LayoutView",
      "align_content": null,
      "align_items": null,
      "align_self": null,
      "border": null,
      "bottom": null,
      "display": null,
      "flex": null,
      "flex_flow": null,
      "grid_area": null,
      "grid_auto_columns": null,
      "grid_auto_flow": null,
      "grid_auto_rows": null,
      "grid_column": null,
      "grid_gap": null,
      "grid_row": null,
      "grid_template_areas": null,
      "grid_template_columns": null,
      "grid_template_rows": null,
      "height": null,
      "justify_content": null,
      "justify_items": null,
      "left": null,
      "margin": null,
      "max_height": null,
      "max_width": null,
      "min_height": null,
      "min_width": null,
      "object_fit": null,
      "object_position": null,
      "order": null,
      "overflow": null,
      "overflow_x": null,
      "overflow_y": null,
      "padding": null,
      "right": null,
      "top": null,
      "visibility": null,
      "width": null
     }
    },
    "d387939065a64f32875d3b706009ef73": {
     "model_module": "@jupyter-widgets/controls",
     "model_module_version": "1.5.0",
     "model_name": "HTMLModel",
     "state": {
      "_dom_classes": [],
      "_model_module": "@jupyter-widgets/controls",
      "_model_module_version": "1.5.0",
      "_model_name": "HTMLModel",
      "_view_count": null,
      "_view_module": "@jupyter-widgets/controls",
      "_view_module_version": "1.5.0",
      "_view_name": "HTMLView",
      "description": "",
      "description_tooltip": null,
      "layout": "IPY_MODEL_b0861d5cddaa4e62bf8cf75ee4182871",
      "placeholder": "​",
      "style": "IPY_MODEL_db815efca3134052ba3517f7cf2b052d",
      "value": "model.safetensors: 100%"
     }
    },
    "db815efca3134052ba3517f7cf2b052d": {
     "model_module": "@jupyter-widgets/controls",
     "model_module_version": "1.5.0",
     "model_name": "DescriptionStyleModel",
     "state": {
      "_model_module": "@jupyter-widgets/controls",
      "_model_module_version": "1.5.0",
      "_model_name": "DescriptionStyleModel",
      "_view_count": null,
      "_view_module": "@jupyter-widgets/base",
      "_view_module_version": "1.2.0",
      "_view_name": "StyleView",
      "description_width": ""
     }
    },
    "e2efa726cd4f42808712401285f19464": {
     "model_module": "@jupyter-widgets/controls",
     "model_module_version": "1.5.0",
     "model_name": "ProgressStyleModel",
     "state": {
      "_model_module": "@jupyter-widgets/controls",
      "_model_module_version": "1.5.0",
      "_model_name": "ProgressStyleModel",
      "_view_count": null,
      "_view_module": "@jupyter-widgets/base",
      "_view_module_version": "1.2.0",
      "_view_name": "StyleView",
      "bar_color": null,
      "description_width": ""
     }
    },
    "eb834db28d2142ebbd26b593917fc6d6": {
     "model_module": "@jupyter-widgets/base",
     "model_module_version": "1.2.0",
     "model_name": "LayoutModel",
     "state": {
      "_model_module": "@jupyter-widgets/base",
      "_model_module_version": "1.2.0",
      "_model_name": "LayoutModel",
      "_view_count": null,
      "_view_module": "@jupyter-widgets/base",
      "_view_module_version": "1.2.0",
      "_view_name": "LayoutView",
      "align_content": null,
      "align_items": null,
      "align_self": null,
      "border": null,
      "bottom": null,
      "display": null,
      "flex": null,
      "flex_flow": null,
      "grid_area": null,
      "grid_auto_columns": null,
      "grid_auto_flow": null,
      "grid_auto_rows": null,
      "grid_column": null,
      "grid_gap": null,
      "grid_row": null,
      "grid_template_areas": null,
      "grid_template_columns": null,
      "grid_template_rows": null,
      "height": null,
      "justify_content": null,
      "justify_items": null,
      "left": null,
      "margin": null,
      "max_height": null,
      "max_width": null,
      "min_height": null,
      "min_width": null,
      "object_fit": null,
      "object_position": null,
      "order": null,
      "overflow": null,
      "overflow_x": null,
      "overflow_y": null,
      "padding": null,
      "right": null,
      "top": null,
      "visibility": null,
      "width": null
     }
    },
    "eed0588787804a4b9ff15673b0a74cd1": {
     "model_module": "@jupyter-widgets/base",
     "model_module_version": "1.2.0",
     "model_name": "LayoutModel",
     "state": {
      "_model_module": "@jupyter-widgets/base",
      "_model_module_version": "1.2.0",
      "_model_name": "LayoutModel",
      "_view_count": null,
      "_view_module": "@jupyter-widgets/base",
      "_view_module_version": "1.2.0",
      "_view_name": "LayoutView",
      "align_content": null,
      "align_items": null,
      "align_self": null,
      "border": null,
      "bottom": null,
      "display": null,
      "flex": null,
      "flex_flow": null,
      "grid_area": null,
      "grid_auto_columns": null,
      "grid_auto_flow": null,
      "grid_auto_rows": null,
      "grid_column": null,
      "grid_gap": null,
      "grid_row": null,
      "grid_template_areas": null,
      "grid_template_columns": null,
      "grid_template_rows": null,
      "height": null,
      "justify_content": null,
      "justify_items": null,
      "left": null,
      "margin": null,
      "max_height": null,
      "max_width": null,
      "min_height": null,
      "min_width": null,
      "object_fit": null,
      "object_position": null,
      "order": null,
      "overflow": null,
      "overflow_x": null,
      "overflow_y": null,
      "padding": null,
      "right": null,
      "top": null,
      "visibility": null,
      "width": null
     }
    },
    "ef95236831f948ab9cc89f98fbfc84a8": {
     "model_module": "@jupyter-widgets/controls",
     "model_module_version": "1.5.0",
     "model_name": "ProgressStyleModel",
     "state": {
      "_model_module": "@jupyter-widgets/controls",
      "_model_module_version": "1.5.0",
      "_model_name": "ProgressStyleModel",
      "_view_count": null,
      "_view_module": "@jupyter-widgets/base",
      "_view_module_version": "1.2.0",
      "_view_name": "StyleView",
      "bar_color": null,
      "description_width": ""
     }
    },
    "f2098cd1155e4a6caf6ae9ef0830afbc": {
     "model_module": "@jupyter-widgets/controls",
     "model_module_version": "1.5.0",
     "model_name": "DescriptionStyleModel",
     "state": {
      "_model_module": "@jupyter-widgets/controls",
      "_model_module_version": "1.5.0",
      "_model_name": "DescriptionStyleModel",
      "_view_count": null,
      "_view_module": "@jupyter-widgets/base",
      "_view_module_version": "1.2.0",
      "_view_name": "StyleView",
      "description_width": ""
     }
    }
   }
  }
 },
 "nbformat": 4,
 "nbformat_minor": 0
}
